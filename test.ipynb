{
 "cells": [
  {
   "cell_type": "code",
   "execution_count": 16,
   "metadata": {},
   "outputs": [
    {
     "name": "stdout",
     "output_type": "stream",
     "text": [
      "Collecting streamlit\n",
      "  Using cached streamlit-1.42.1-py2.py3-none-any.whl.metadata (8.9 kB)\n",
      "Requirement already satisfied: qdrant-client in c:\\projects\\agents-projects\\poc-names-customembeddings\\venv\\lib\\site-packages (1.13.2)\n",
      "Requirement already satisfied: numpy in c:\\projects\\agents-projects\\poc-names-customembeddings\\venv\\lib\\site-packages (1.26.4)\n",
      "Requirement already satisfied: pandas in c:\\projects\\agents-projects\\poc-names-customembeddings\\venv\\lib\\site-packages (2.2.3)\n",
      "Collecting altair<6,>=4.0 (from streamlit)\n",
      "  Using cached altair-5.5.0-py3-none-any.whl.metadata (11 kB)\n",
      "Requirement already satisfied: blinker<2,>=1.0.0 in c:\\projects\\agents-projects\\poc-names-customembeddings\\venv\\lib\\site-packages (from streamlit) (1.9.0)\n",
      "Collecting cachetools<6,>=4.0 (from streamlit)\n",
      "  Using cached cachetools-5.5.1-py3-none-any.whl.metadata (5.4 kB)\n",
      "Requirement already satisfied: click<9,>=7.0 in c:\\projects\\agents-projects\\poc-names-customembeddings\\venv\\lib\\site-packages (from streamlit) (8.1.8)\n",
      "Requirement already satisfied: packaging<25,>=20 in c:\\projects\\agents-projects\\poc-names-customembeddings\\venv\\lib\\site-packages (from streamlit) (24.2)\n",
      "Requirement already satisfied: pillow<12,>=7.1.0 in c:\\projects\\agents-projects\\poc-names-customembeddings\\venv\\lib\\site-packages (from streamlit) (10.4.0)\n",
      "Requirement already satisfied: protobuf<6,>=3.20 in c:\\projects\\agents-projects\\poc-names-customembeddings\\venv\\lib\\site-packages (from streamlit) (5.29.3)\n",
      "Collecting pyarrow>=7.0 (from streamlit)\n",
      "  Using cached pyarrow-19.0.0-cp310-cp310-win_amd64.whl.metadata (3.4 kB)\n",
      "Requirement already satisfied: requests<3,>=2.27 in c:\\projects\\agents-projects\\poc-names-customembeddings\\venv\\lib\\site-packages (from streamlit) (2.32.3)\n",
      "Requirement already satisfied: rich<14,>=10.14.0 in c:\\projects\\agents-projects\\poc-names-customembeddings\\venv\\lib\\site-packages (from streamlit) (13.9.4)\n",
      "Requirement already satisfied: tenacity<10,>=8.1.0 in c:\\projects\\agents-projects\\poc-names-customembeddings\\venv\\lib\\site-packages (from streamlit) (9.0.0)\n",
      "Collecting toml<2,>=0.10.1 (from streamlit)\n",
      "  Using cached toml-0.10.2-py2.py3-none-any.whl.metadata (7.1 kB)\n",
      "Requirement already satisfied: typing-extensions<5,>=4.4.0 in c:\\projects\\agents-projects\\poc-names-customembeddings\\venv\\lib\\site-packages (from streamlit) (4.12.2)\n",
      "Collecting watchdog<7,>=2.1.5 (from streamlit)\n",
      "  Using cached watchdog-6.0.0-py3-none-win_amd64.whl.metadata (44 kB)\n",
      "Collecting gitpython!=3.1.19,<4,>=3.0.7 (from streamlit)\n",
      "  Using cached GitPython-3.1.44-py3-none-any.whl.metadata (13 kB)\n",
      "Collecting pydeck<1,>=0.8.0b4 (from streamlit)\n",
      "  Using cached pydeck-0.9.1-py2.py3-none-any.whl.metadata (4.1 kB)\n",
      "Requirement already satisfied: tornado<7,>=6.0.3 in c:\\projects\\agents-projects\\poc-names-customembeddings\\venv\\lib\\site-packages (from streamlit) (6.4.2)\n",
      "Requirement already satisfied: grpcio>=1.41.0 in c:\\projects\\agents-projects\\poc-names-customembeddings\\venv\\lib\\site-packages (from qdrant-client) (1.70.0)\n",
      "Requirement already satisfied: grpcio-tools>=1.41.0 in c:\\projects\\agents-projects\\poc-names-customembeddings\\venv\\lib\\site-packages (from qdrant-client) (1.70.0)\n",
      "Requirement already satisfied: httpx>=0.20.0 in c:\\projects\\agents-projects\\poc-names-customembeddings\\venv\\lib\\site-packages (from httpx[http2]>=0.20.0->qdrant-client) (0.28.1)\n",
      "Requirement already satisfied: portalocker<3.0.0,>=2.7.0 in c:\\projects\\agents-projects\\poc-names-customembeddings\\venv\\lib\\site-packages (from qdrant-client) (2.10.1)\n",
      "Requirement already satisfied: pydantic>=1.10.8 in c:\\projects\\agents-projects\\poc-names-customembeddings\\venv\\lib\\site-packages (from qdrant-client) (2.10.6)\n",
      "Requirement already satisfied: urllib3<3,>=1.26.14 in c:\\projects\\agents-projects\\poc-names-customembeddings\\venv\\lib\\site-packages (from qdrant-client) (2.3.0)\n",
      "Requirement already satisfied: python-dateutil>=2.8.2 in c:\\projects\\agents-projects\\poc-names-customembeddings\\venv\\lib\\site-packages (from pandas) (2.9.0.post0)\n",
      "Requirement already satisfied: pytz>=2020.1 in c:\\projects\\agents-projects\\poc-names-customembeddings\\venv\\lib\\site-packages (from pandas) (2025.1)\n",
      "Requirement already satisfied: tzdata>=2022.7 in c:\\projects\\agents-projects\\poc-names-customembeddings\\venv\\lib\\site-packages (from pandas) (2025.1)\n",
      "Requirement already satisfied: jinja2 in c:\\projects\\agents-projects\\poc-names-customembeddings\\venv\\lib\\site-packages (from altair<6,>=4.0->streamlit) (3.1.5)\n",
      "Collecting jsonschema>=3.0 (from altair<6,>=4.0->streamlit)\n",
      "  Using cached jsonschema-4.23.0-py3-none-any.whl.metadata (7.9 kB)\n",
      "Collecting narwhals>=1.14.2 (from altair<6,>=4.0->streamlit)\n",
      "  Using cached narwhals-1.27.1-py3-none-any.whl.metadata (10 kB)\n",
      "Requirement already satisfied: colorama in c:\\projects\\agents-projects\\poc-names-customembeddings\\venv\\lib\\site-packages (from click<9,>=7.0->streamlit) (0.4.6)\n",
      "Collecting gitdb<5,>=4.0.1 (from gitpython!=3.1.19,<4,>=3.0.7->streamlit)\n",
      "  Using cached gitdb-4.0.12-py3-none-any.whl.metadata (1.2 kB)\n",
      "Requirement already satisfied: setuptools in c:\\projects\\agents-projects\\poc-names-customembeddings\\venv\\lib\\site-packages (from grpcio-tools>=1.41.0->qdrant-client) (65.5.0)\n",
      "Requirement already satisfied: anyio in c:\\projects\\agents-projects\\poc-names-customembeddings\\venv\\lib\\site-packages (from httpx>=0.20.0->httpx[http2]>=0.20.0->qdrant-client) (4.8.0)\n",
      "Requirement already satisfied: certifi in c:\\projects\\agents-projects\\poc-names-customembeddings\\venv\\lib\\site-packages (from httpx>=0.20.0->httpx[http2]>=0.20.0->qdrant-client) (2025.1.31)\n",
      "Requirement already satisfied: httpcore==1.* in c:\\projects\\agents-projects\\poc-names-customembeddings\\venv\\lib\\site-packages (from httpx>=0.20.0->httpx[http2]>=0.20.0->qdrant-client) (1.0.7)\n",
      "Requirement already satisfied: idna in c:\\projects\\agents-projects\\poc-names-customembeddings\\venv\\lib\\site-packages (from httpx>=0.20.0->httpx[http2]>=0.20.0->qdrant-client) (3.10)\n",
      "Requirement already satisfied: h11<0.15,>=0.13 in c:\\projects\\agents-projects\\poc-names-customembeddings\\venv\\lib\\site-packages (from httpcore==1.*->httpx>=0.20.0->httpx[http2]>=0.20.0->qdrant-client) (0.14.0)\n",
      "Requirement already satisfied: h2<5,>=3 in c:\\projects\\agents-projects\\poc-names-customembeddings\\venv\\lib\\site-packages (from httpx[http2]>=0.20.0->qdrant-client) (4.1.0)\n",
      "Requirement already satisfied: pywin32>=226 in c:\\projects\\agents-projects\\poc-names-customembeddings\\venv\\lib\\site-packages (from portalocker<3.0.0,>=2.7.0->qdrant-client) (308)\n",
      "Requirement already satisfied: annotated-types>=0.6.0 in c:\\projects\\agents-projects\\poc-names-customembeddings\\venv\\lib\\site-packages (from pydantic>=1.10.8->qdrant-client) (0.7.0)\n",
      "Requirement already satisfied: pydantic-core==2.27.2 in c:\\projects\\agents-projects\\poc-names-customembeddings\\venv\\lib\\site-packages (from pydantic>=1.10.8->qdrant-client) (2.27.2)\n",
      "Requirement already satisfied: six>=1.5 in c:\\projects\\agents-projects\\poc-names-customembeddings\\venv\\lib\\site-packages (from python-dateutil>=2.8.2->pandas) (1.17.0)\n",
      "Requirement already satisfied: charset-normalizer<4,>=2 in c:\\projects\\agents-projects\\poc-names-customembeddings\\venv\\lib\\site-packages (from requests<3,>=2.27->streamlit) (3.4.1)\n",
      "Requirement already satisfied: markdown-it-py>=2.2.0 in c:\\projects\\agents-projects\\poc-names-customembeddings\\venv\\lib\\site-packages (from rich<14,>=10.14.0->streamlit) (3.0.0)\n",
      "Requirement already satisfied: pygments<3.0.0,>=2.13.0 in c:\\projects\\agents-projects\\poc-names-customembeddings\\venv\\lib\\site-packages (from rich<14,>=10.14.0->streamlit) (2.19.1)\n",
      "Collecting smmap<6,>=3.0.1 (from gitdb<5,>=4.0.1->gitpython!=3.1.19,<4,>=3.0.7->streamlit)\n",
      "  Using cached smmap-5.0.2-py3-none-any.whl.metadata (4.3 kB)\n",
      "Requirement already satisfied: hyperframe<7,>=6.0 in c:\\projects\\agents-projects\\poc-names-customembeddings\\venv\\lib\\site-packages (from h2<5,>=3->httpx[http2]>=0.20.0->qdrant-client) (6.1.0)\n",
      "Requirement already satisfied: hpack<5,>=4.0 in c:\\projects\\agents-projects\\poc-names-customembeddings\\venv\\lib\\site-packages (from h2<5,>=3->httpx[http2]>=0.20.0->qdrant-client) (4.1.0)\n",
      "Requirement already satisfied: MarkupSafe>=2.0 in c:\\projects\\agents-projects\\poc-names-customembeddings\\venv\\lib\\site-packages (from jinja2->altair<6,>=4.0->streamlit) (3.0.2)\n",
      "Requirement already satisfied: attrs>=22.2.0 in c:\\projects\\agents-projects\\poc-names-customembeddings\\venv\\lib\\site-packages (from jsonschema>=3.0->altair<6,>=4.0->streamlit) (25.1.0)\n",
      "Collecting jsonschema-specifications>=2023.03.6 (from jsonschema>=3.0->altair<6,>=4.0->streamlit)\n",
      "  Using cached jsonschema_specifications-2024.10.1-py3-none-any.whl.metadata (3.0 kB)\n",
      "Collecting referencing>=0.28.4 (from jsonschema>=3.0->altair<6,>=4.0->streamlit)\n",
      "  Using cached referencing-0.36.2-py3-none-any.whl.metadata (2.8 kB)\n",
      "Collecting rpds-py>=0.7.1 (from jsonschema>=3.0->altair<6,>=4.0->streamlit)\n",
      "  Using cached rpds_py-0.22.3-cp310-cp310-win_amd64.whl.metadata (4.2 kB)\n",
      "Requirement already satisfied: mdurl~=0.1 in c:\\projects\\agents-projects\\poc-names-customembeddings\\venv\\lib\\site-packages (from markdown-it-py>=2.2.0->rich<14,>=10.14.0->streamlit) (0.1.2)\n",
      "Requirement already satisfied: exceptiongroup>=1.0.2 in c:\\projects\\agents-projects\\poc-names-customembeddings\\venv\\lib\\site-packages (from anyio->httpx>=0.20.0->httpx[http2]>=0.20.0->qdrant-client) (1.2.2)\n",
      "Requirement already satisfied: sniffio>=1.1 in c:\\projects\\agents-projects\\poc-names-customembeddings\\venv\\lib\\site-packages (from anyio->httpx>=0.20.0->httpx[http2]>=0.20.0->qdrant-client) (1.3.1)\n",
      "Using cached streamlit-1.42.1-py2.py3-none-any.whl (9.6 MB)\n",
      "Using cached altair-5.5.0-py3-none-any.whl (731 kB)\n",
      "Using cached cachetools-5.5.1-py3-none-any.whl (9.5 kB)\n",
      "Using cached GitPython-3.1.44-py3-none-any.whl (207 kB)\n",
      "Using cached pyarrow-19.0.0-cp310-cp310-win_amd64.whl (25.3 MB)\n",
      "Using cached pydeck-0.9.1-py2.py3-none-any.whl (6.9 MB)\n",
      "Using cached toml-0.10.2-py2.py3-none-any.whl (16 kB)\n",
      "Using cached watchdog-6.0.0-py3-none-win_amd64.whl (79 kB)\n",
      "Using cached gitdb-4.0.12-py3-none-any.whl (62 kB)\n",
      "Using cached jsonschema-4.23.0-py3-none-any.whl (88 kB)\n",
      "Using cached narwhals-1.27.1-py3-none-any.whl (308 kB)\n",
      "Using cached jsonschema_specifications-2024.10.1-py3-none-any.whl (18 kB)\n",
      "Using cached referencing-0.36.2-py3-none-any.whl (26 kB)\n",
      "Using cached rpds_py-0.22.3-cp310-cp310-win_amd64.whl (231 kB)\n",
      "Using cached smmap-5.0.2-py3-none-any.whl (24 kB)\n",
      "Installing collected packages: watchdog, toml, smmap, rpds-py, pyarrow, narwhals, cachetools, referencing, pydeck, gitdb, jsonschema-specifications, gitpython, jsonschema, altair, streamlit\n",
      "Successfully installed altair-5.5.0 cachetools-5.5.1 gitdb-4.0.12 gitpython-3.1.44 jsonschema-4.23.0 jsonschema-specifications-2024.10.1 narwhals-1.27.1 pyarrow-19.0.0 pydeck-0.9.1 referencing-0.36.2 rpds-py-0.22.3 smmap-5.0.2 streamlit-1.42.1 toml-0.10.2 watchdog-6.0.0\n",
      "Note: you may need to restart the kernel to use updated packages.\n"
     ]
    },
    {
     "name": "stderr",
     "output_type": "stream",
     "text": [
      "\n",
      "[notice] A new release of pip is available: 25.0 -> 25.0.1\n",
      "[notice] To update, run: python.exe -m pip install --upgrade pip\n"
     ]
    }
   ],
   "source": [
    "%pip install streamlit qdrant-client numpy pandas\n"
   ]
  },
  {
   "cell_type": "code",
   "execution_count": 61,
   "metadata": {},
   "outputs": [
    {
     "name": "stdout",
     "output_type": "stream",
     "text": [
      "Requirement already satisfied: qdrant-client in c:\\projects\\agents-projects\\poc-names-customembeddings\\venv\\lib\\site-packages (1.13.2)\n",
      "Requirement already satisfied: grpcio>=1.41.0 in c:\\projects\\agents-projects\\poc-names-customembeddings\\venv\\lib\\site-packages (from qdrant-client) (1.70.0)\n",
      "Requirement already satisfied: grpcio-tools>=1.41.0 in c:\\projects\\agents-projects\\poc-names-customembeddings\\venv\\lib\\site-packages (from qdrant-client) (1.70.0)\n",
      "Requirement already satisfied: httpx>=0.20.0 in c:\\projects\\agents-projects\\poc-names-customembeddings\\venv\\lib\\site-packages (from httpx[http2]>=0.20.0->qdrant-client) (0.28.1)\n",
      "Requirement already satisfied: numpy>=1.21 in c:\\projects\\agents-projects\\poc-names-customembeddings\\venv\\lib\\site-packages (from qdrant-client) (1.26.4)\n",
      "Requirement already satisfied: portalocker<3.0.0,>=2.7.0 in c:\\projects\\agents-projects\\poc-names-customembeddings\\venv\\lib\\site-packages (from qdrant-client) (2.10.1)\n",
      "Requirement already satisfied: pydantic>=1.10.8 in c:\\projects\\agents-projects\\poc-names-customembeddings\\venv\\lib\\site-packages (from qdrant-client) (2.10.6)\n",
      "Requirement already satisfied: urllib3<3,>=1.26.14 in c:\\projects\\agents-projects\\poc-names-customembeddings\\venv\\lib\\site-packages (from qdrant-client) (2.3.0)\n",
      "Requirement already satisfied: protobuf<6.0dev,>=5.26.1 in c:\\projects\\agents-projects\\poc-names-customembeddings\\venv\\lib\\site-packages (from grpcio-tools>=1.41.0->qdrant-client) (5.29.3)\n",
      "Requirement already satisfied: setuptools in c:\\projects\\agents-projects\\poc-names-customembeddings\\venv\\lib\\site-packages (from grpcio-tools>=1.41.0->qdrant-client) (65.5.0)\n",
      "Requirement already satisfied: anyio in c:\\projects\\agents-projects\\poc-names-customembeddings\\venv\\lib\\site-packages (from httpx>=0.20.0->httpx[http2]>=0.20.0->qdrant-client) (4.8.0)\n",
      "Requirement already satisfied: certifi in c:\\projects\\agents-projects\\poc-names-customembeddings\\venv\\lib\\site-packages (from httpx>=0.20.0->httpx[http2]>=0.20.0->qdrant-client) (2025.1.31)\n",
      "Requirement already satisfied: httpcore==1.* in c:\\projects\\agents-projects\\poc-names-customembeddings\\venv\\lib\\site-packages (from httpx>=0.20.0->httpx[http2]>=0.20.0->qdrant-client) (1.0.7)\n",
      "Requirement already satisfied: idna in c:\\projects\\agents-projects\\poc-names-customembeddings\\venv\\lib\\site-packages (from httpx>=0.20.0->httpx[http2]>=0.20.0->qdrant-client) (3.10)\n",
      "Requirement already satisfied: h11<0.15,>=0.13 in c:\\projects\\agents-projects\\poc-names-customembeddings\\venv\\lib\\site-packages (from httpcore==1.*->httpx>=0.20.0->httpx[http2]>=0.20.0->qdrant-client) (0.14.0)\n",
      "Requirement already satisfied: h2<5,>=3 in c:\\projects\\agents-projects\\poc-names-customembeddings\\venv\\lib\\site-packages (from httpx[http2]>=0.20.0->qdrant-client) (4.1.0)\n",
      "Requirement already satisfied: pywin32>=226 in c:\\projects\\agents-projects\\poc-names-customembeddings\\venv\\lib\\site-packages (from portalocker<3.0.0,>=2.7.0->qdrant-client) (308)\n",
      "Requirement already satisfied: annotated-types>=0.6.0 in c:\\projects\\agents-projects\\poc-names-customembeddings\\venv\\lib\\site-packages (from pydantic>=1.10.8->qdrant-client) (0.7.0)\n",
      "Requirement already satisfied: pydantic-core==2.27.2 in c:\\projects\\agents-projects\\poc-names-customembeddings\\venv\\lib\\site-packages (from pydantic>=1.10.8->qdrant-client) (2.27.2)\n",
      "Requirement already satisfied: typing-extensions>=4.12.2 in c:\\projects\\agents-projects\\poc-names-customembeddings\\venv\\lib\\site-packages (from pydantic>=1.10.8->qdrant-client) (4.12.2)\n",
      "Requirement already satisfied: hyperframe<7,>=6.0 in c:\\projects\\agents-projects\\poc-names-customembeddings\\venv\\lib\\site-packages (from h2<5,>=3->httpx[http2]>=0.20.0->qdrant-client) (6.1.0)\n",
      "Requirement already satisfied: hpack<5,>=4.0 in c:\\projects\\agents-projects\\poc-names-customembeddings\\venv\\lib\\site-packages (from h2<5,>=3->httpx[http2]>=0.20.0->qdrant-client) (4.1.0)\n",
      "Requirement already satisfied: exceptiongroup>=1.0.2 in c:\\projects\\agents-projects\\poc-names-customembeddings\\venv\\lib\\site-packages (from anyio->httpx>=0.20.0->httpx[http2]>=0.20.0->qdrant-client) (1.2.2)\n",
      "Requirement already satisfied: sniffio>=1.1 in c:\\projects\\agents-projects\\poc-names-customembeddings\\venv\\lib\\site-packages (from anyio->httpx>=0.20.0->httpx[http2]>=0.20.0->qdrant-client) (1.3.1)\n",
      "Note: you may need to restart the kernel to use updated packages.\n"
     ]
    },
    {
     "name": "stderr",
     "output_type": "stream",
     "text": [
      "\n",
      "[notice] A new release of pip is available: 25.0 -> 25.0.1\n",
      "[notice] To update, run: python.exe -m pip install --upgrade pip\n"
     ]
    }
   ],
   "source": [
    "%pip install -U qdrant-client"
   ]
  },
  {
   "cell_type": "code",
   "execution_count": 88,
   "metadata": {},
   "outputs": [],
   "source": [
    "import numpy as np\n",
    "import pandas as pd\n",
    "from qdrant_client import QdrantClient, models\n",
    "from qdrant_client.http.models import Distance\n",
    "from qdrant_client.http.models import VectorParams"
   ]
  },
  {
   "cell_type": "code",
   "execution_count": 82,
   "metadata": {},
   "outputs": [],
   "source": [
    "# Sample dataset (subset of your sample data)\n",
    "data = [\n",
    "    {\"ID\": 1001, \"Name\": \"vinodkumar nallamogla\", \"Age\": 34},\n",
    "    {\"ID\": 1002, \"Name\": \"vinod katari\", \"Age\": 32},\n",
    "    {\"ID\": 1003, \"Name\": \"vinod yerra\", \"Age\": 30},\n",
    "    {\"ID\": 1004, \"Name\": \"bharath moti\", \"Age\": 25},\n",
    "    {\"ID\": 1005, \"Name\": \"bharath motikayala\", \"Age\": 26},\n",
    "    {\"ID\": 1006, \"Name\": \"ramesh katari\", \"Age\": 29},\n",
    "    {\"ID\": 1007, \"Name\": \"ramesh dugasani\", \"Age\": 30},\n",
    "    {\"ID\": 1008, \"Name\": \"satish dugasasni\", \"Age\": 38},\n",
    "    {\"ID\": 1009, \"Name\": \"venu yerra\", \"Age\": 42},\n",
    "    {\"ID\": 1010, \"Name\": \"sasi dugasani\", \"Age\": 36},\n",
    "]"
   ]
  },
  {
   "cell_type": "code",
   "execution_count": 44,
   "metadata": {},
   "outputs": [],
   "source": [
    "# Create a DataFrame\n",
    "df = pd.DataFrame(data)"
   ]
  },
  {
   "cell_type": "code",
   "execution_count": 45,
   "metadata": {},
   "outputs": [],
   "source": [
    "# Number of records (we'll use this for the length of the one-hot vector)\n",
    "n_records = len(df)"
   ]
  },
  {
   "cell_type": "code",
   "execution_count": 46,
   "metadata": {},
   "outputs": [
    {
     "name": "stdout",
     "output_type": "stream",
     "text": [
      "10\n"
     ]
    }
   ],
   "source": [
    "print(n_records)"
   ]
  },
  {
   "cell_type": "code",
   "execution_count": 47,
   "metadata": {},
   "outputs": [],
   "source": [
    "# 1. Generate Sparse Vectors (One-Hot Encoding)\n",
    "def generate_one_hot(index, length):\n",
    "    vec = [0.0] * length\n",
    "    vec[index] = 1.0\n",
    "    return vec\n",
    "\n",
    "df['sparse_vector'] = [generate_one_hot(i, n_records) for i in range(n_records)]"
   ]
  },
  {
   "cell_type": "code",
   "execution_count": 49,
   "metadata": {},
   "outputs": [],
   "source": [
    "\n",
    "# 2. Generate Zero Vectors (All Zeros)\n",
    "df['zero_vector'] = [[0.0] * n_records for _ in range(n_records)]"
   ]
  },
  {
   "cell_type": "code",
   "execution_count": 51,
   "metadata": {},
   "outputs": [],
   "source": [
    "#3. Generate Custom Vectors using Uniform Distribution\n",
    "#    Let's generate a 10-dimensional vector with values from U(0,1)\n",
    "df['uniform_vector'] = [np.random.uniform(0, 1, 10).round(2).tolist() for _ in range(n_records)]\n"
   ]
  },
  {
   "cell_type": "code",
   "execution_count": 53,
   "metadata": {},
   "outputs": [],
   "source": [
    "# 4. Generate Custom Vectors using Normal Distribution\n",
    "#    For example, with mean=0.5 and std=0.1, 10-dimensional\n",
    "df['normal_vector'] = [np.random.normal(0.5, 0.1, 10).round(2).tolist() for _ in range(n_records)]"
   ]
  },
  {
   "cell_type": "code",
   "execution_count": 55,
   "metadata": {},
   "outputs": [
    {
     "name": "stdout",
     "output_type": "stream",
     "text": [
      "     ID                   Name  Age  \\\n",
      "0  1001  vinodkumar nallamogla   34   \n",
      "1  1002           vinod katari   32   \n",
      "2  1003            vinod yerra   30   \n",
      "3  1004           bharath moti   25   \n",
      "4  1005     bharath motikayala   26   \n",
      "5  1006          ramesh katari   29   \n",
      "6  1007        ramesh dugasani   30   \n",
      "7  1008       satish dugasasni   38   \n",
      "8  1009             venu yerra   42   \n",
      "9  1010          sasi dugasani   36   \n",
      "\n",
      "                                       sparse_vector  \\\n",
      "0  [1.0, 0.0, 0.0, 0.0, 0.0, 0.0, 0.0, 0.0, 0.0, ...   \n",
      "1  [0.0, 1.0, 0.0, 0.0, 0.0, 0.0, 0.0, 0.0, 0.0, ...   \n",
      "2  [0.0, 0.0, 1.0, 0.0, 0.0, 0.0, 0.0, 0.0, 0.0, ...   \n",
      "3  [0.0, 0.0, 0.0, 1.0, 0.0, 0.0, 0.0, 0.0, 0.0, ...   \n",
      "4  [0.0, 0.0, 0.0, 0.0, 1.0, 0.0, 0.0, 0.0, 0.0, ...   \n",
      "5  [0.0, 0.0, 0.0, 0.0, 0.0, 1.0, 0.0, 0.0, 0.0, ...   \n",
      "6  [0.0, 0.0, 0.0, 0.0, 0.0, 0.0, 1.0, 0.0, 0.0, ...   \n",
      "7  [0.0, 0.0, 0.0, 0.0, 0.0, 0.0, 0.0, 1.0, 0.0, ...   \n",
      "8  [0.0, 0.0, 0.0, 0.0, 0.0, 0.0, 0.0, 0.0, 1.0, ...   \n",
      "9  [0.0, 0.0, 0.0, 0.0, 0.0, 0.0, 0.0, 0.0, 0.0, ...   \n",
      "\n",
      "                                         zero_vector  \\\n",
      "0  [0.0, 0.0, 0.0, 0.0, 0.0, 0.0, 0.0, 0.0, 0.0, ...   \n",
      "1  [0.0, 0.0, 0.0, 0.0, 0.0, 0.0, 0.0, 0.0, 0.0, ...   \n",
      "2  [0.0, 0.0, 0.0, 0.0, 0.0, 0.0, 0.0, 0.0, 0.0, ...   \n",
      "3  [0.0, 0.0, 0.0, 0.0, 0.0, 0.0, 0.0, 0.0, 0.0, ...   \n",
      "4  [0.0, 0.0, 0.0, 0.0, 0.0, 0.0, 0.0, 0.0, 0.0, ...   \n",
      "5  [0.0, 0.0, 0.0, 0.0, 0.0, 0.0, 0.0, 0.0, 0.0, ...   \n",
      "6  [0.0, 0.0, 0.0, 0.0, 0.0, 0.0, 0.0, 0.0, 0.0, ...   \n",
      "7  [0.0, 0.0, 0.0, 0.0, 0.0, 0.0, 0.0, 0.0, 0.0, ...   \n",
      "8  [0.0, 0.0, 0.0, 0.0, 0.0, 0.0, 0.0, 0.0, 0.0, ...   \n",
      "9  [0.0, 0.0, 0.0, 0.0, 0.0, 0.0, 0.0, 0.0, 0.0, ...   \n",
      "\n",
      "                                      uniform_vector  \\\n",
      "0  [0.63, 0.69, 0.29, 0.9, 0.46, 0.32, 0.17, 0.76...   \n",
      "1  [0.11, 0.6, 0.13, 0.6, 0.19, 0.05, 0.01, 0.35,...   \n",
      "2  [0.98, 0.59, 0.57, 0.47, 0.4, 0.56, 0.65, 0.2,...   \n",
      "3  [0.27, 0.82, 0.04, 0.68, 0.3, 0.41, 0.3, 0.22,...   \n",
      "4  [0.6, 0.77, 0.16, 0.2, 0.86, 0.66, 0.17, 0.12,...   \n",
      "5  [0.99, 0.23, 0.49, 0.63, 0.71, 0.49, 0.64, 1.0...   \n",
      "6  [0.3, 0.82, 0.8, 0.78, 0.66, 0.16, 0.81, 0.15,...   \n",
      "7  [0.12, 0.31, 0.84, 0.84, 0.01, 0.39, 0.25, 0.5...   \n",
      "8  [0.17, 0.65, 0.19, 0.88, 0.08, 0.89, 0.54, 0.0...   \n",
      "9  [0.16, 0.03, 0.51, 0.51, 0.4, 0.32, 0.5, 0.81,...   \n",
      "\n",
      "                                       normal_vector  \n",
      "0  [0.48, 0.44, 0.41, 0.25, 0.52, 0.42, 0.36, 0.5...  \n",
      "1  [0.55, 0.53, 0.57, 0.37, 0.52, 0.56, 0.4, 0.42...  \n",
      "2  [0.55, 0.5, 0.45, 0.37, 0.28, 0.58, 0.47, 0.61...  \n",
      "3  [0.38, 0.51, 0.54, 0.56, 0.47, 0.55, 0.36, 0.4...  \n",
      "4  [0.54, 0.6, 0.42, 0.51, 0.53, 0.6, 0.47, 0.38,...  \n",
      "5  [0.49, 0.51, 0.33, 0.33, 0.52, 0.59, 0.44, 0.3...  \n",
      "6  [0.52, 0.41, 0.25, 0.53, 0.52, 0.54, 0.5, 0.58...  \n",
      "7  [0.61, 0.27, 0.5, 0.38, 0.54, 0.51, 0.28, 0.51...  \n",
      "8  [0.37, 0.61, 0.46, 0.7, 0.43, 0.62, 0.43, 0.38...  \n",
      "9  [0.41, 0.58, 0.45, 0.72, 0.58, 0.42, 0.56, 0.5...  \n"
     ]
    }
   ],
   "source": [
    "# Display the DataFrame with the generated vectors\n",
    "print(df[['ID', 'Name', 'Age', 'sparse_vector', 'zero_vector', 'uniform_vector', 'normal_vector']])"
   ]
  },
  {
   "cell_type": "code",
   "execution_count": 56,
   "metadata": {},
   "outputs": [],
   "source": [
    "# ---------------------------\n",
    "# Connect to Qdrant Cloud\n",
    "# ---------------------------\n",
    "# Replace these with your actual Qdrant Cloud details:\n",
    "client = QdrantClient(\n",
    "    url=\"https://64c9b924-a747-4c21-874f-f6901dc0431e.us-east-1-0.aws.cloud.qdrant.io:6333\",  # e.g., \"your-cluster-1234.us-east1.qdrant.io\"\n",
    "    api_key=\"vgywMs0OrU6zw1BkgnJ6sQ8CAbp2XJ7spYIgQFoRaEjAqCAXLlp3Rg\",\n",
    "    https=True\n",
    ")\n"
   ]
  },
  {
   "cell_type": "code",
   "execution_count": 98,
   "metadata": {},
   "outputs": [],
   "source": [
    "collections = {\n",
    "    \"sparse\": \"sparse_vectors\",\n",
    "    \"zero\": \"zero_vectors\",\n",
    "    \"uniform\": \"uniform_vectors\",\n",
    "    \"normal\": \"normal_vectors\"\n",
    "}"
   ]
  },
  {
   "cell_type": "code",
   "execution_count": 99,
   "metadata": {},
   "outputs": [],
   "source": [
    "def create_collection_if_not_exists(collection_name, vector_size):\n",
    "    if not client.collection_exists(collection_name):\n",
    "        print(f\"Creating collection '{collection_name}'...\")\n",
    "        client.create_collection(\n",
    "            collection_name=collection_name,\n",
    "            # vectors_config={\n",
    "            #     \"default\": VectorParams(size=vector_size, distance=Distance.COSINE)\n",
    "            # }\n",
    "            vectors_config=models.VectorParams(size=vector_size, distance=models.Distance.COSINE)\n",
    "        )\n",
    "    else:\n",
    "        print(f\"Collection '{collection_name}' already exists.\")"
   ]
  },
  {
   "cell_type": "code",
   "execution_count": 100,
   "metadata": {},
   "outputs": [
    {
     "name": "stdout",
     "output_type": "stream",
     "text": [
      "Collection 'sparse_vectors' already exists.\n",
      "Creating collection 'zero_vectors'...\n",
      "Creating collection 'uniform_vectors'...\n",
      "Creating collection 'normal_vectors'...\n"
     ]
    }
   ],
   "source": [
    "# For sparse and zero vectors, the vector dimension equals n_records; for uniform and normal, dimension is 10.\n",
    "create_collection_if_not_exists(collections[\"sparse\"], n_records)\n",
    "create_collection_if_not_exists(collections[\"zero\"], n_records)\n",
    "create_collection_if_not_exists(collections[\"uniform\"], 10)\n",
    "create_collection_if_not_exists(collections[\"normal\"], 10)\n"
   ]
  },
  {
   "cell_type": "code",
   "execution_count": 102,
   "metadata": {},
   "outputs": [
    {
     "name": "stdout",
     "output_type": "stream",
     "text": [
      "Data upserted into Qdrant Cloud collections successfully!\n"
     ]
    }
   ],
   "source": [
    "from qdrant_client.http.models import PointStruct\n",
    "\n",
    "# ---------------------------\n",
    "# Upsert Data into Each Collection\n",
    "# ---------------------------\n",
    "points_sparse, points_zero, points_uniform, points_normal = [], [], [], []\n",
    "\n",
    "for _, row in df.iterrows():\n",
    "    base_payload = {\n",
    "        \"Name\": row[\"Name\"],\n",
    "        \"Age\": row[\"Age\"],\n",
    "    }\n",
    "\n",
    "    points_sparse.append(PointStruct(id=int(row[\"ID\"]), vector=row[\"sparse_vector\"], payload=base_payload))\n",
    "    points_zero.append(PointStruct(id=int(row[\"ID\"]), vector=row[\"zero_vector\"], payload=base_payload))\n",
    "    points_uniform.append(PointStruct(id=int(row[\"ID\"]), vector=row[\"uniform_vector\"], payload=base_payload))\n",
    "    points_normal.append(PointStruct(id=int(row[\"ID\"]), vector=row[\"normal_vector\"], payload=base_payload))\n",
    "\n",
    "# Upsert to Qdrant collections\n",
    "client.upsert(collection_name=collections[\"sparse\"], points=points_sparse)\n",
    "client.upsert(collection_name=collections[\"zero\"], points=points_zero)\n",
    "client.upsert(collection_name=collections[\"uniform\"], points=points_uniform)\n",
    "client.upsert(collection_name=collections[\"normal\"], points=points_normal)\n",
    "\n",
    "print(\"Data upserted into Qdrant Cloud collections successfully!\")\n"
   ]
  },
  {
   "cell_type": "code",
   "execution_count": 117,
   "metadata": {},
   "outputs": [],
   "source": [
    "import requests\n",
    "GROQ_API_KEY=\"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\"\n",
    "GROQ_MODEL=\"llama-3.3-70b-versatile\""
   ]
  },
  {
   "cell_type": "code",
   "execution_count": null,
   "metadata": {},
   "outputs": [],
   "source": [
    "import streamlit as st\n",
    "import numpy as np\n",
    "from qdrant_client import QdrantClient\n",
    "from groq import Groq  # Import Groq API\n",
    "\n",
    "# -------------------------------\n",
    "# Load Configuration (Replace with actual values)\n",
    "# -------------------------------\n",
    "QDRANT_URL = \"https://64c9b924-a747-4c21-874f-f6901dc0431e.us-east-1-0.aws.cloud.qdrant.io:6333\"\n",
    "QDRANT_API_KEY = \"vgywMs0OrU6zw1BkgnJ6sQ8CAbp2XJ7spYIgQFoRaEjAqCAXLlp3Rg\"\n",
    "GROQ_API_KEY = \"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\"\n",
    "GROQ_MODEL = \"llama-3.3-70b-versatile\"  # Change if using a different model\n",
    "\n"
   ]
  },
  {
   "cell_type": "code",
   "execution_count": 120,
   "metadata": {},
   "outputs": [
    {
     "name": "stderr",
     "output_type": "stream",
     "text": [
      "2025-02-18 15:11:08.042 Thread 'MainThread': missing ScriptRunContext! This warning can be ignored when running in bare mode.\n",
      "2025-02-18 15:11:08.043 Thread 'MainThread': missing ScriptRunContext! This warning can be ignored when running in bare mode.\n",
      "2025-02-18 15:11:08.043 Thread 'MainThread': missing ScriptRunContext! This warning can be ignored when running in bare mode.\n",
      "2025-02-18 15:11:08.043 Thread 'MainThread': missing ScriptRunContext! This warning can be ignored when running in bare mode.\n",
      "2025-02-18 15:11:08.056 Thread 'MainThread': missing ScriptRunContext! This warning can be ignored when running in bare mode.\n"
     ]
    },
    {
     "ename": "ValueError",
     "evalue": "`host` param is not expected to contain protocol (http:// or https://). Try to use `url` parameter instead.",
     "output_type": "error",
     "traceback": [
      "\u001b[1;31m---------------------------------------------------------------------------\u001b[0m",
      "\u001b[1;31mValueError\u001b[0m                                Traceback (most recent call last)",
      "Cell \u001b[1;32mIn[120], line 20\u001b[0m\n\u001b[0;32m     16\u001b[0m \u001b[38;5;129m@st\u001b[39m\u001b[38;5;241m.\u001b[39mcache_resource\n\u001b[0;32m     17\u001b[0m \u001b[38;5;28;01mdef\u001b[39;00m\u001b[38;5;250m \u001b[39m\u001b[38;5;21mget_qdrant_client\u001b[39m():\n\u001b[0;32m     18\u001b[0m     \u001b[38;5;28;01mreturn\u001b[39;00m QdrantClient(host\u001b[38;5;241m=\u001b[39mQDRANT_URL, api_key\u001b[38;5;241m=\u001b[39mQDRANT_API_KEY, https\u001b[38;5;241m=\u001b[39m\u001b[38;5;28;01mTrue\u001b[39;00m)\n\u001b[1;32m---> 20\u001b[0m client \u001b[38;5;241m=\u001b[39m \u001b[43mget_qdrant_client\u001b[49m\u001b[43m(\u001b[49m\u001b[43m)\u001b[49m\n\u001b[0;32m     22\u001b[0m \u001b[38;5;66;03m# -------------------------------\u001b[39;00m\n\u001b[0;32m     23\u001b[0m \u001b[38;5;66;03m# Initialize Groq API Client\u001b[39;00m\n\u001b[0;32m     24\u001b[0m \u001b[38;5;66;03m# -------------------------------\u001b[39;00m\n\u001b[0;32m     25\u001b[0m groq_client \u001b[38;5;241m=\u001b[39m Groq(api_key\u001b[38;5;241m=\u001b[39mGROQ_API_KEY)\n",
      "File \u001b[1;32mc:\\Projects\\Agents-projects\\poc-names-customembeddings\\venv\\lib\\site-packages\\streamlit\\runtime\\caching\\cache_utils.py:217\u001b[0m, in \u001b[0;36mCachedFunc.__call__\u001b[1;34m(self, *args, **kwargs)\u001b[0m\n\u001b[0;32m    214\u001b[0m     \u001b[38;5;28;01melse\u001b[39;00m:\n\u001b[0;32m    215\u001b[0m         spinner_message \u001b[38;5;241m=\u001b[39m \u001b[38;5;124mf\u001b[39m\u001b[38;5;124m\"\u001b[39m\u001b[38;5;124mRunning `\u001b[39m\u001b[38;5;132;01m{\u001b[39;00mname\u001b[38;5;132;01m}\u001b[39;00m\u001b[38;5;124m(...)`.\u001b[39m\u001b[38;5;124m\"\u001b[39m\n\u001b[1;32m--> 217\u001b[0m \u001b[38;5;28;01mreturn\u001b[39;00m \u001b[38;5;28;43mself\u001b[39;49m\u001b[38;5;241;43m.\u001b[39;49m\u001b[43m_get_or_create_cached_value\u001b[49m\u001b[43m(\u001b[49m\u001b[43margs\u001b[49m\u001b[43m,\u001b[49m\u001b[43m \u001b[49m\u001b[43mkwargs\u001b[49m\u001b[43m,\u001b[49m\u001b[43m \u001b[49m\u001b[43mspinner_message\u001b[49m\u001b[43m)\u001b[49m\n",
      "File \u001b[1;32mc:\\Projects\\Agents-projects\\poc-names-customembeddings\\venv\\lib\\site-packages\\streamlit\\runtime\\caching\\cache_utils.py:259\u001b[0m, in \u001b[0;36mCachedFunc._get_or_create_cached_value\u001b[1;34m(self, func_args, func_kwargs, spinner_message)\u001b[0m\n\u001b[0;32m    253\u001b[0m spinner_or_no_context \u001b[38;5;241m=\u001b[39m (\n\u001b[0;32m    254\u001b[0m     spinner(spinner_message, _cache\u001b[38;5;241m=\u001b[39m\u001b[38;5;28;01mTrue\u001b[39;00m)\n\u001b[0;32m    255\u001b[0m     \u001b[38;5;28;01mif\u001b[39;00m spinner_message \u001b[38;5;129;01mis\u001b[39;00m \u001b[38;5;129;01mnot\u001b[39;00m \u001b[38;5;28;01mNone\u001b[39;00m \u001b[38;5;129;01mand\u001b[39;00m \u001b[38;5;129;01mnot\u001b[39;00m is_nested_cache_function\n\u001b[0;32m    256\u001b[0m     \u001b[38;5;28;01melse\u001b[39;00m contextlib\u001b[38;5;241m.\u001b[39mnullcontext()\n\u001b[0;32m    257\u001b[0m )\n\u001b[0;32m    258\u001b[0m \u001b[38;5;28;01mwith\u001b[39;00m spinner_or_no_context:\n\u001b[1;32m--> 259\u001b[0m     \u001b[38;5;28;01mreturn\u001b[39;00m \u001b[38;5;28;43mself\u001b[39;49m\u001b[38;5;241;43m.\u001b[39;49m\u001b[43m_handle_cache_miss\u001b[49m\u001b[43m(\u001b[49m\u001b[43mcache\u001b[49m\u001b[43m,\u001b[49m\u001b[43m \u001b[49m\u001b[43mvalue_key\u001b[49m\u001b[43m,\u001b[49m\u001b[43m \u001b[49m\u001b[43mfunc_args\u001b[49m\u001b[43m,\u001b[49m\u001b[43m \u001b[49m\u001b[43mfunc_kwargs\u001b[49m\u001b[43m)\u001b[49m\n",
      "File \u001b[1;32mc:\\Projects\\Agents-projects\\poc-names-customembeddings\\venv\\lib\\site-packages\\streamlit\\runtime\\caching\\cache_utils.py:317\u001b[0m, in \u001b[0;36mCachedFunc._handle_cache_miss\u001b[1;34m(self, cache, value_key, func_args, func_kwargs)\u001b[0m\n\u001b[0;32m    313\u001b[0m \u001b[38;5;66;03m# We acquired the lock before any other thread. Compute the value!\u001b[39;00m\n\u001b[0;32m    314\u001b[0m \u001b[38;5;28;01mwith\u001b[39;00m \u001b[38;5;28mself\u001b[39m\u001b[38;5;241m.\u001b[39m_info\u001b[38;5;241m.\u001b[39mcached_message_replay_ctx\u001b[38;5;241m.\u001b[39mcalling_cached_function(\n\u001b[0;32m    315\u001b[0m     \u001b[38;5;28mself\u001b[39m\u001b[38;5;241m.\u001b[39m_info\u001b[38;5;241m.\u001b[39mfunc\n\u001b[0;32m    316\u001b[0m ):\n\u001b[1;32m--> 317\u001b[0m     computed_value \u001b[38;5;241m=\u001b[39m \u001b[38;5;28mself\u001b[39m\u001b[38;5;241m.\u001b[39m_info\u001b[38;5;241m.\u001b[39mfunc(\u001b[38;5;241m*\u001b[39mfunc_args, \u001b[38;5;241m*\u001b[39m\u001b[38;5;241m*\u001b[39mfunc_kwargs)\n\u001b[0;32m    319\u001b[0m \u001b[38;5;66;03m# We've computed our value, and now we need to write it back to the cache\u001b[39;00m\n\u001b[0;32m    320\u001b[0m \u001b[38;5;66;03m# along with any \"replay messages\" that were generated during value computation.\u001b[39;00m\n\u001b[0;32m    321\u001b[0m messages \u001b[38;5;241m=\u001b[39m \u001b[38;5;28mself\u001b[39m\u001b[38;5;241m.\u001b[39m_info\u001b[38;5;241m.\u001b[39mcached_message_replay_ctx\u001b[38;5;241m.\u001b[39m_most_recent_messages\n",
      "Cell \u001b[1;32mIn[120], line 18\u001b[0m, in \u001b[0;36mget_qdrant_client\u001b[1;34m()\u001b[0m\n\u001b[0;32m     16\u001b[0m \u001b[38;5;129m@st\u001b[39m\u001b[38;5;241m.\u001b[39mcache_resource\n\u001b[0;32m     17\u001b[0m \u001b[38;5;28;01mdef\u001b[39;00m\u001b[38;5;250m \u001b[39m\u001b[38;5;21mget_qdrant_client\u001b[39m():\n\u001b[1;32m---> 18\u001b[0m     \u001b[38;5;28;01mreturn\u001b[39;00m \u001b[43mQdrantClient\u001b[49m\u001b[43m(\u001b[49m\u001b[43mhost\u001b[49m\u001b[38;5;241;43m=\u001b[39;49m\u001b[43mQDRANT_URL\u001b[49m\u001b[43m,\u001b[49m\u001b[43m \u001b[49m\u001b[43mapi_key\u001b[49m\u001b[38;5;241;43m=\u001b[39;49m\u001b[43mQDRANT_API_KEY\u001b[49m\u001b[43m,\u001b[49m\u001b[43m \u001b[49m\u001b[43mhttps\u001b[49m\u001b[38;5;241;43m=\u001b[39;49m\u001b[38;5;28;43;01mTrue\u001b[39;49;00m\u001b[43m)\u001b[49m\n",
      "File \u001b[1;32mc:\\Projects\\Agents-projects\\poc-names-customembeddings\\venv\\lib\\site-packages\\qdrant_client\\qdrant_client.py:137\u001b[0m, in \u001b[0;36mQdrantClient.__init__\u001b[1;34m(self, location, url, port, grpc_port, prefer_grpc, https, api_key, prefix, timeout, host, path, force_disable_check_same_thread, grpc_options, auth_token_provider, cloud_inference, check_compatibility, **kwargs)\u001b[0m\n\u001b[0;32m    135\u001b[0m     \u001b[38;5;28;01mif\u001b[39;00m location \u001b[38;5;129;01mis\u001b[39;00m \u001b[38;5;129;01mnot\u001b[39;00m \u001b[38;5;28;01mNone\u001b[39;00m \u001b[38;5;129;01mand\u001b[39;00m url \u001b[38;5;129;01mis\u001b[39;00m \u001b[38;5;28;01mNone\u001b[39;00m:\n\u001b[0;32m    136\u001b[0m         url \u001b[38;5;241m=\u001b[39m location\n\u001b[1;32m--> 137\u001b[0m     \u001b[38;5;28mself\u001b[39m\u001b[38;5;241m.\u001b[39m_client \u001b[38;5;241m=\u001b[39m QdrantRemote(\n\u001b[0;32m    138\u001b[0m         url\u001b[38;5;241m=\u001b[39murl,\n\u001b[0;32m    139\u001b[0m         port\u001b[38;5;241m=\u001b[39mport,\n\u001b[0;32m    140\u001b[0m         grpc_port\u001b[38;5;241m=\u001b[39mgrpc_port,\n\u001b[0;32m    141\u001b[0m         prefer_grpc\u001b[38;5;241m=\u001b[39mprefer_grpc,\n\u001b[0;32m    142\u001b[0m         https\u001b[38;5;241m=\u001b[39mhttps,\n\u001b[0;32m    143\u001b[0m         api_key\u001b[38;5;241m=\u001b[39mapi_key,\n\u001b[0;32m    144\u001b[0m         prefix\u001b[38;5;241m=\u001b[39mprefix,\n\u001b[0;32m    145\u001b[0m         timeout\u001b[38;5;241m=\u001b[39mtimeout,\n\u001b[0;32m    146\u001b[0m         host\u001b[38;5;241m=\u001b[39mhost,\n\u001b[0;32m    147\u001b[0m         grpc_options\u001b[38;5;241m=\u001b[39mgrpc_options,\n\u001b[0;32m    148\u001b[0m         auth_token_provider\u001b[38;5;241m=\u001b[39mauth_token_provider,\n\u001b[0;32m    149\u001b[0m         check_compatibility\u001b[38;5;241m=\u001b[39mcheck_compatibility,\n\u001b[0;32m    150\u001b[0m         \u001b[38;5;241m*\u001b[39m\u001b[38;5;241m*\u001b[39mkwargs,\n\u001b[0;32m    151\u001b[0m     )\n\u001b[0;32m    153\u001b[0m \u001b[38;5;28;01mif\u001b[39;00m \u001b[38;5;28misinstance\u001b[39m(\u001b[38;5;28mself\u001b[39m\u001b[38;5;241m.\u001b[39m_client, QdrantLocal) \u001b[38;5;129;01mand\u001b[39;00m cloud_inference:\n\u001b[0;32m    154\u001b[0m     \u001b[38;5;28;01mraise\u001b[39;00m \u001b[38;5;167;01mValueError\u001b[39;00m(\n\u001b[0;32m    155\u001b[0m         \u001b[38;5;124m\"\u001b[39m\u001b[38;5;124mCloud inference is not supported for local Qdrant, consider using FastEmbed or switch to Qdrant Cloud\u001b[39m\u001b[38;5;124m\"\u001b[39m\n\u001b[0;32m    156\u001b[0m     )\n",
      "File \u001b[1;32mc:\\Projects\\Agents-projects\\poc-names-customembeddings\\venv\\lib\\site-packages\\qdrant_client\\qdrant_remote.py:83\u001b[0m, in \u001b[0;36mQdrantRemote.__init__\u001b[1;34m(self, url, port, grpc_port, prefer_grpc, https, api_key, prefix, timeout, host, grpc_options, auth_token_provider, check_compatibility, **kwargs)\u001b[0m\n\u001b[0;32m     80\u001b[0m     \u001b[38;5;28;01mraise\u001b[39;00m \u001b[38;5;167;01mValueError\u001b[39;00m(\u001b[38;5;124mf\u001b[39m\u001b[38;5;124m\"\u001b[39m\u001b[38;5;124mOnly one of (url, host) can be set. url is \u001b[39m\u001b[38;5;132;01m{\u001b[39;00murl\u001b[38;5;132;01m}\u001b[39;00m\u001b[38;5;124m, host is \u001b[39m\u001b[38;5;132;01m{\u001b[39;00mhost\u001b[38;5;132;01m}\u001b[39;00m\u001b[38;5;124m\"\u001b[39m)\n\u001b[0;32m     82\u001b[0m \u001b[38;5;28;01mif\u001b[39;00m host \u001b[38;5;129;01mis\u001b[39;00m \u001b[38;5;129;01mnot\u001b[39;00m \u001b[38;5;28;01mNone\u001b[39;00m \u001b[38;5;129;01mand\u001b[39;00m (host\u001b[38;5;241m.\u001b[39mstartswith(\u001b[38;5;124m\"\u001b[39m\u001b[38;5;124mhttp://\u001b[39m\u001b[38;5;124m\"\u001b[39m) \u001b[38;5;129;01mor\u001b[39;00m host\u001b[38;5;241m.\u001b[39mstartswith(\u001b[38;5;124m\"\u001b[39m\u001b[38;5;124mhttps://\u001b[39m\u001b[38;5;124m\"\u001b[39m)):\n\u001b[1;32m---> 83\u001b[0m     \u001b[38;5;28;01mraise\u001b[39;00m \u001b[38;5;167;01mValueError\u001b[39;00m(\n\u001b[0;32m     84\u001b[0m         \u001b[38;5;124mf\u001b[39m\u001b[38;5;124m\"\u001b[39m\u001b[38;5;124m`host` param is not expected to contain protocol (http:// or https://). \u001b[39m\u001b[38;5;124m\"\u001b[39m\n\u001b[0;32m     85\u001b[0m         \u001b[38;5;124mf\u001b[39m\u001b[38;5;124m\"\u001b[39m\u001b[38;5;124mTry to use `url` parameter instead.\u001b[39m\u001b[38;5;124m\"\u001b[39m\n\u001b[0;32m     86\u001b[0m     )\n\u001b[0;32m     88\u001b[0m \u001b[38;5;28;01melif\u001b[39;00m url:\n\u001b[0;32m     89\u001b[0m     \u001b[38;5;28;01mif\u001b[39;00m url\u001b[38;5;241m.\u001b[39mstartswith(\u001b[38;5;124m\"\u001b[39m\u001b[38;5;124mlocalhost\u001b[39m\u001b[38;5;124m\"\u001b[39m):\n\u001b[0;32m     90\u001b[0m         \u001b[38;5;66;03m# Handle for a special case when url is localhost:port\u001b[39;00m\n\u001b[0;32m     91\u001b[0m         \u001b[38;5;66;03m# Which is not parsed correctly by urllib\u001b[39;00m\n",
      "\u001b[1;31mValueError\u001b[0m: `host` param is not expected to contain protocol (http:// or https://). Try to use `url` parameter instead."
     ]
    }
   ],
   "source": [
    "# Cache Qdrant Connection\n",
    "# -------------------------------\n",
    "@st.cache_resource\n",
    "def get_qdrant_client():\n",
    "    return QdrantClient(host=QDRANT_URL, api_key=QDRANT_API_KEY, https=True)\n",
    "\n",
    "client = get_qdrant_client()\n",
    "\n",
    "# -------------------------------\n",
    "# Initialize Groq API Client\n",
    "# -------------------------------\n",
    "groq_client = Groq(api_key=GROQ_API_KEY)\n",
    "\n",
    "# -------------------------------\n",
    "# Streamlit Chat Interface Layout\n",
    "# -------------------------------\n",
    "st.title(\"Qdrant & Groq LLM Chatbot\")\n",
    "st.write(\"Select an embedding method, ask your query, and get responses from Llama-3.3.\")\n",
    "\n",
    "# Dropdown to select the embedding method (collection)\n",
    "selected_method = st.selectbox(\"Select Embedding Method\", list(collections.keys()))\n",
    "collection_name = collections[selected_method]\n",
    "\n",
    "# Text input for the query\n",
    "query = st.text_input(\"Enter your query:\", \"What is the age of Vinod?\")\n",
    "\n",
    "# -------------------------------\n",
    "# Function to Convert Query to Vector\n",
    "# -------------------------------\n",
    "def query_to_vector(query, method):\n",
    "    n = 10  # Assume fixed embedding dimension\n",
    "    if method == \"sparse_vectors\":\n",
    "        vec = [0.0] * n\n",
    "        if \"vinod\" in query.lower():\n",
    "            vec[1] = 1.0  # Simulating sparse vector behavior\n",
    "        else:\n",
    "            vec[0] = 1.0\n",
    "        return vec\n",
    "    elif method == \"zero_vectors\":\n",
    "        return [0.0] * n\n",
    "    elif method == \"uniform_vectors\":\n",
    "        return np.random.uniform(0, 1, n).round(2).tolist()\n",
    "    elif method == \"normal_vectors\":\n",
    "        return np.random.normal(0.5, 0.1, n).round(2).tolist()\n",
    "    else:\n",
    "        return [0.0] * n\n",
    "\n",
    "# -------------------------------\n",
    "# Function to Generate Response using Groq LLM\n",
    "# -------------------------------\n",
    "def get_llm_response(query, context):\n",
    "    prompt = f\"User Query: {query}\\nContext: {context}\\nAnswer:\"\n",
    "    \n",
    "    response = groq_client.chat.completions.create(\n",
    "        model=GROQ_MODEL,\n",
    "        messages=[{\"role\": \"user\", \"content\": prompt}],\n",
    "        max_tokens=200\n",
    "    )\n",
    "\n",
    "    return response.choices[0].message.content.strip() if response.choices else \"No response generated.\"\n",
    "\n",
    "# -------------------------------\n",
    "# Handle Query Submission\n",
    "# -------------------------------\n",
    "if st.button(\"Submit Query\"):\n",
    "    if query:\n",
    "        # Convert the query into an embedding\n",
    "        query_vector = query_to_vector(query, collection_name)\n",
    "        st.write(\"**Query Vector:**\", query_vector)\n",
    "        \n",
    "        # Perform similarity search in Qdrant\n",
    "        search_result = client.search(\n",
    "            collection_name=collection_name,\n",
    "            query_vector=query_vector,\n",
    "            limit=1\n",
    "        )\n",
    "        \n",
    "        # Retrieve and display the result\n",
    "        if search_result:\n",
    "            result = search_result[0]\n",
    "            name = result.payload.get(\"Name\", \"Unknown\")\n",
    "            age = result.payload.get(\"Age\", \"Unknown\")\n",
    "            context = f\"Name: {name}, Age: {age}\"\n",
    "            \n",
    "            # Send the retrieved data to LLM\n",
    "            llm_response = get_llm_response(query, context)\n",
    "            st.success(f\"**LLM Response:** {llm_response}\")\n",
    "        else:\n",
    "            st.error(\"No matching result found.\")\n",
    "    else:\n",
    "        st.warning(\"Please enter a query.\")"
   ]
  },
  {
   "cell_type": "code",
   "execution_count": 118,
   "metadata": {},
   "outputs": [
    {
     "name": "stderr",
     "output_type": "stream",
     "text": [
      "2025-02-18 15:07:56.524 Thread 'MainThread': missing ScriptRunContext! This warning can be ignored when running in bare mode.\n",
      "2025-02-18 15:07:56.526 Thread 'MainThread': missing ScriptRunContext! This warning can be ignored when running in bare mode.\n",
      "2025-02-18 15:07:56.527 Thread 'MainThread': missing ScriptRunContext! This warning can be ignored when running in bare mode.\n",
      "2025-02-18 15:07:56.528 Thread 'MainThread': missing ScriptRunContext! This warning can be ignored when running in bare mode.\n",
      "2025-02-18 15:07:56.528 Thread 'MainThread': missing ScriptRunContext! This warning can be ignored when running in bare mode.\n",
      "2025-02-18 15:07:56.532 Thread 'MainThread': missing ScriptRunContext! This warning can be ignored when running in bare mode.\n",
      "2025-02-18 15:07:56.534 Thread 'MainThread': missing ScriptRunContext! This warning can be ignored when running in bare mode.\n",
      "2025-02-18 15:07:56.536 Thread 'MainThread': missing ScriptRunContext! This warning can be ignored when running in bare mode.\n",
      "2025-02-18 15:07:56.538 Thread 'MainThread': missing ScriptRunContext! This warning can be ignored when running in bare mode.\n",
      "2025-02-18 15:07:56.539 Thread 'MainThread': missing ScriptRunContext! This warning can be ignored when running in bare mode.\n",
      "2025-02-18 15:07:56.540 Thread 'MainThread': missing ScriptRunContext! This warning can be ignored when running in bare mode.\n",
      "2025-02-18 15:07:56.542 Thread 'MainThread': missing ScriptRunContext! This warning can be ignored when running in bare mode.\n",
      "2025-02-18 15:07:56.544 Thread 'MainThread': missing ScriptRunContext! This warning can be ignored when running in bare mode.\n",
      "2025-02-18 15:07:56.546 Thread 'MainThread': missing ScriptRunContext! This warning can be ignored when running in bare mode.\n",
      "2025-02-18 15:07:56.548 Thread 'MainThread': missing ScriptRunContext! This warning can be ignored when running in bare mode.\n",
      "2025-02-18 15:07:56.550 Thread 'MainThread': missing ScriptRunContext! This warning can be ignored when running in bare mode.\n",
      "2025-02-18 15:07:56.551 Thread 'MainThread': missing ScriptRunContext! This warning can be ignored when running in bare mode.\n",
      "2025-02-18 15:07:56.552 Thread 'MainThread': missing ScriptRunContext! This warning can be ignored when running in bare mode.\n",
      "2025-02-18 15:07:56.554 Thread 'MainThread': missing ScriptRunContext! This warning can be ignored when running in bare mode.\n",
      "2025-02-18 15:07:56.556 Thread 'MainThread': missing ScriptRunContext! This warning can be ignored when running in bare mode.\n",
      "2025-02-18 15:07:56.556 Thread 'MainThread': missing ScriptRunContext! This warning can be ignored when running in bare mode.\n",
      "2025-02-18 15:07:56.556 Thread 'MainThread': missing ScriptRunContext! This warning can be ignored when running in bare mode.\n",
      "2025-02-18 15:07:56.556 Thread 'MainThread': missing ScriptRunContext! This warning can be ignored when running in bare mode.\n"
     ]
    }
   ],
   "source": [
    "import streamlit as st\n",
    "from groq import Groq \n",
    "groq_client = Groq(api_key=GROQ_API_KEY)\n",
    "\n",
    "# -------------------------------\n",
    "# Streamlit Chat Interface Layout\n",
    "# -------------------------------\n",
    "st.title(\"Qdrant & Groq LLM Chatbot\")\n",
    "st.write(\"Select an embedding method, ask your query, and get responses from Llama-3.3.\")\n",
    "\n",
    "# Dropdown to select the embedding method (collection)\n",
    "selected_method = st.selectbox(\"Select Embedding Method\", list(collections.keys()))\n",
    "collection_name = collections[selected_method]\n",
    "\n",
    "# Text input for the query\n",
    "query = st.text_input(\"Enter your query:\", \"What is the age of Vinod?\")\n",
    "\n",
    "# -------------------------------\n",
    "# Function to Convert Query to Vector\n",
    "# -------------------------------\n",
    "def query_to_vector(query, method):\n",
    "    n = 10  # Assume fixed embedding dimension\n",
    "    if method == \"sparse_vectors\":\n",
    "        vec = [0.0] * n\n",
    "        if \"vinod\" in query.lower():\n",
    "            vec[1] = 1.0  # Simulating sparse vector behavior\n",
    "        else:\n",
    "            vec[0] = 1.0\n",
    "        return vec\n",
    "    elif method == \"zero_vectors\":\n",
    "        return [0.0] * n\n",
    "    elif method == \"uniform_vectors\":\n",
    "        return np.random.uniform(0, 1, n).round(2).tolist()\n",
    "    elif method == \"normal_vectors\":\n",
    "        return np.random.normal(0.5, 0.1, n).round(2).tolist()\n",
    "    else:\n",
    "        return [0.0] * n\n",
    "\n",
    "# -------------------------------\n",
    "# Function to Generate Response using Groq LLM\n",
    "# -------------------------------\n",
    "def get_llm_response(query, context):\n",
    "    prompt = f\"User Query: {query}\\nContext: {context}\\nAnswer:\"\n",
    "    \n",
    "    response = groq_client.chat.completions.create(\n",
    "        model=GROQ_MODEL,\n",
    "        messages=[{\"role\": \"user\", \"content\": prompt}],\n",
    "        max_tokens=200\n",
    "    )\n",
    "\n",
    "    return response.choices[0].message.content.strip() if response.choices else \"No response generated.\"\n",
    "\n",
    "# -------------------------------\n",
    "# Handle Query Submission\n",
    "# -------------------------------\n",
    "if st.button(\"Submit Query\"):\n",
    "    if query:\n",
    "        # Convert the query into an embedding\n",
    "        query_vector = query_to_vector(query, collection_name)\n",
    "        st.write(\"**Query Vector:**\", query_vector)\n",
    "        \n",
    "        # Perform similarity search in Qdrant\n",
    "        search_result = client.search(\n",
    "            collection_name=collection_name,\n",
    "            query_vector=query_vector,\n",
    "            limit=1\n",
    "        )\n",
    "        \n",
    "        # Retrieve and display the result\n",
    "        if search_result:\n",
    "            result = search_result[0]\n",
    "            name = result.payload.get(\"Name\", \"Unknown\")\n",
    "            age = result.payload.get(\"Age\", \"Unknown\")\n",
    "            context = f\"Name: {name}, Age: {age}\"\n",
    "            \n",
    "            # Send the retrieved data to LLM\n",
    "            llm_response = get_llm_response(query, context)\n",
    "            st.success(f\"**LLM Response:** {llm_response}\")\n",
    "        else:\n",
    "            st.error(\"No matching result found.\")\n",
    "    else:\n",
    "        st.warning(\"Please enter a query.\")"
   ]
  }
 ],
 "metadata": {
  "kernelspec": {
   "display_name": "venv",
   "language": "python",
   "name": "python3"
  },
  "language_info": {
   "codemirror_mode": {
    "name": "ipython",
    "version": 3
   },
   "file_extension": ".py",
   "mimetype": "text/x-python",
   "name": "python",
   "nbconvert_exporter": "python",
   "pygments_lexer": "ipython3",
   "version": "3.10.9"
  }
 },
 "nbformat": 4,
 "nbformat_minor": 2
}
